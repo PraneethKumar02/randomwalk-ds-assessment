{
 "cells": [
  {
   "cell_type": "markdown",
   "metadata": {},
   "source": [
    "## Random Walk's Data Science Assessment\n",
    "### G Praneeth Kumar - CS20B1130"
   ]
  },
  {
   "cell_type": "code",
   "execution_count": 91,
   "metadata": {},
   "outputs": [],
   "source": [
    "# Import necessary libraries\n",
    "import numpy as np\n",
    "import pandas as pd\n",
    "import matplotlib.pyplot as plt"
   ]
  },
  {
   "cell_type": "code",
   "execution_count": 92,
   "metadata": {},
   "outputs": [],
   "source": [
    "# Load the dataset into a DataFrame\n",
    "df = pd.read_csv('./books.csv')"
   ]
  },
  {
   "cell_type": "markdown",
   "metadata": {},
   "source": [
    "##### How many rows and columns are there in books.csv dataset?"
   ]
  },
  {
   "cell_type": "code",
   "execution_count": 93,
   "metadata": {},
   "outputs": [
    {
     "name": "stdout",
     "output_type": "stream",
     "text": [
      "Number of rows in the books.csv dataset: 399\n",
      "Number of columns in the books.csv dataset: 24\n"
     ]
    }
   ],
   "source": [
    "# Get the number of rows and columns\n",
    "rows, columns = df.shape\n",
    "print(f\"Number of rows in the books.csv dataset: {rows}\")\n",
    "print(f\"Number of columns in the books.csv dataset: {columns}\")"
   ]
  },
  {
   "cell_type": "markdown",
   "metadata": {},
   "source": [
    "##### How many books do not have an original title?"
   ]
  },
  {
   "cell_type": "code",
   "execution_count": 94,
   "metadata": {},
   "outputs": [
    {
     "name": "stdout",
     "output_type": "stream",
     "text": [
      "Number of books without an original title: 36\n"
     ]
    }
   ],
   "source": [
    "# Count the number of books without an original title\n",
    "books_without_original_title = df[df['original_title'].isnull()]\n",
    "\n",
    "# Get the count\n",
    "num_books_without_original_title = len(books_without_original_title)\n",
    "print(f'Number of books without an original title: {num_books_without_original_title}')"
   ]
  },
  {
   "cell_type": "markdown",
   "metadata": {},
   "source": [
    "##### How many unique books are present in the dataset ? Evaluate based on the 'book_id' after removing null values in the original_title column."
   ]
  },
  {
   "cell_type": "code",
   "execution_count": 95,
   "metadata": {},
   "outputs": [
    {
     "name": "stdout",
     "output_type": "stream",
     "text": [
      "Number of unique books after removing null values in original_title column: 363\n"
     ]
    }
   ],
   "source": [
    "# Remove rows with null values in the 'OriginalTitle' column\n",
    "df = df.dropna(subset=['original_title'])\n",
    "\n",
    "# Get the number of unique books based on 'book_id'\n",
    "count_unique_books = df['book_id'].nunique()\n",
    "print(f'Number of unique books after removing null values in original_title column: {count_unique_books}')"
   ]
  },
  {
   "cell_type": "markdown",
   "metadata": {},
   "source": [
    "##### What is the average rating of all the books in the dataset based on ‘average_rating’?"
   ]
  },
  {
   "cell_type": "code",
   "execution_count": 96,
   "metadata": {},
   "outputs": [
    {
     "name": "stdout",
     "output_type": "stream",
     "text": [
      "Average rating of all books in the dataset: 3.99\n"
     ]
    }
   ],
   "source": [
    "# Calculate the average rating\n",
    "average_rating = df['average_rating'].mean()\n",
    "print(f'Average rating of all books in the dataset: {average_rating:.2f}')"
   ]
  },
  {
   "cell_type": "markdown",
   "metadata": {},
   "source": [
    "##### Find the number of books published in the year ‘2000’ based on the ‘original_publication_year’"
   ]
  },
  {
   "cell_type": "code",
   "execution_count": 97,
   "metadata": {},
   "outputs": [
    {
     "name": "stdout",
     "output_type": "stream",
     "text": [
      "Number of books published in the year 2000 based on the original_publication_year: 7\n"
     ]
    }
   ],
   "source": [
    "# Filter rows where 'original_publication_year' is equal to 2000\n",
    "books_published = df[df['original_publication_year'] == 2000]\n",
    "\n",
    "# Get the count\n",
    "count_books_published = books_published.shape[0]\n",
    "print(f'Number of books published in the year 2000 based on the original_publication_year: {count_books_published}')"
   ]
  },
  {
   "cell_type": "markdown",
   "metadata": {},
   "source": [
    "##### Which book (title) has the maximum number of ratings based on ‘work_ratings_count’."
   ]
  },
  {
   "cell_type": "code",
   "execution_count": 98,
   "metadata": {},
   "outputs": [
    {
     "name": "stdout",
     "output_type": "stream",
     "text": [
      "The book with the maximum number of ratings is: The Diary of a Young Girl\n"
     ]
    }
   ],
   "source": [
    "# Find the row with the maximum 'work_ratings_count'\n",
    "max_rating = df[df['work_ratings_count'] == df['work_ratings_count'].max()]\n",
    "\n",
    "# Get the title\n",
    "book_title = max_rating['title'].values[0]\n",
    "print(f'The book with the maximum number of ratings is: {book_title}')"
   ]
  },
  {
   "cell_type": "markdown",
   "metadata": {},
   "source": [
    "##### Bucket the average_rating of books into 11 buckets [0, 0.5, 1.0, 1.5, 2.0, 2.5, 3.0, 3.5, 4.0, 4.5, 5.0] with 0.5 decimal rounding (eg: average_rating 3.0 to 3.49 will fall in bucket 3.0). Plot bar graph to show total number of books in each rating bucket."
   ]
  },
  {
   "cell_type": "code",
   "execution_count": 99,
   "metadata": {},
   "outputs": [
    {
     "data": {
      "image/png": "[encoded data removed]",
      "text/plain": [
       "<Figure size 640x480 with 1 Axes>"
      ]
     },
     "metadata": {},
     "output_type": "display_data"
    }
   ],
   "source": [
    "# Create bins for average ratings\n",
    "bins = [0, 0.5, 1.0, 1.5, 2.0, 2.5, 3.0, 3.5, 4.0, 4.5, 5.0]\n",
    "\n",
    "# Bucket the average_rating into the specified bins\n",
    "df['rating_bucket'] = pd.cut(df['average_rating'], bins, right=False)\n",
    "\n",
    "# Group by rating buckets and count the number of books in each bucket\n",
    "rating_counts = df['rating_bucket'].value_counts().sort_index()\n",
    "\n",
    "# Plot the bar graph\n",
    "ax = rating_counts.plot(kind='bar')\n",
    "\n",
    "# Annotate each bar with its frequency\n",
    "for p in ax.patches:\n",
    "    ax.annotate(str(p.get_height()), (p.get_x() + p.get_width() / 2., p.get_height()),\n",
    "                ha='center', va='center', xytext=(0, 10), textcoords='offset points')\n",
    "\n",
    "plt.xlabel('Rating Bucket')\n",
    "plt.ylabel('Number of Books')\n",
    "plt.title('Number of Books in Each Rating Bucket')\n",
    "\n",
    "# Adjust layout for better appearance\n",
    "plt.tight_layout()  \n",
    "plt.show()"
   ]
  }
 ],
 "metadata": {
  "kernelspec": {
   "display_name": "Python 3",
   "language": "python",
   "name": "python3"
  },
  "language_info": {
   "codemirror_mode": {
    "name": "ipython",
    "version": 3
   },
   "file_extension": ".py",
   "mimetype": "text/x-python",
   "name": "python",
   "nbconvert_exporter": "python",
   "pygments_lexer": "ipython3",
   "version": "3.10.7"
  }
 },
 "nbformat": 4,
 "nbformat_minor": 2
}
